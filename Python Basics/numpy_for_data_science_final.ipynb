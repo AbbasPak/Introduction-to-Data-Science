{
 "cells": [
  {
   "cell_type": "markdown",
   "id": "6b1c7a5c",
   "metadata": {},
   "source": [
    "\n",
    "# NumPy for Data Science\n",
    "\n",
    "NumPy is the fundamental package for numerical computing in Python. It provides support for arrays, matrices, and many mathematical functions that are essential for data science.\n",
    "\n",
    "This notebook covers some of the most important NumPy functionalities.\n",
    "\n",
    "## Table of Contents\n",
    "1. [Importing NumPy](#importing-numpy)\n",
    "2. [Creating Arrays](#creating-arrays)\n",
    "3. [Array Indexing and Slicing](#array-indexing-and-slicing)\n",
    "4. [Array Operations](#array-operations)\n",
    "5. [Reshaping and Resizing Arrays](#reshaping-and-resizing-arrays)\n",
    "6. [Statistical Operations](#statistical-operations)\n",
    "7. [Broadcasting](#broadcasting)\n",
    "8. [Random Numbers](#random-numbers)\n",
    "9. [Linear Algebra](#linear-algebra)\n",
    "\n",
    "---\n"
   ]
  },
  {
   "cell_type": "markdown",
   "id": "c6e04269",
   "metadata": {},
   "source": [
    "\n",
    "## Importing NumPy\n",
    "\n",
    "Let's start by importing the NumPy library.\n"
   ]
  },
  {
   "cell_type": "code",
   "execution_count": null,
   "id": "9447a471",
   "metadata": {},
   "outputs": [],
   "source": [
    "\n",
    "import numpy as np\n"
   ]
  },
  {
   "cell_type": "markdown",
   "id": "09b6d3b6",
   "metadata": {},
   "source": [
    "\n",
    "## Creating Arrays\n",
    "\n",
    "NumPy provides several ways to create arrays, including from lists and using built-in functions like `zeros`, `ones`, and `arange`.\n"
   ]
  },
  {
   "cell_type": "code",
   "execution_count": null,
   "id": "f8187781",
   "metadata": {},
   "outputs": [],
   "source": [
    "\n",
    "# Creating arrays from a list\n",
    "arr = np.array([1, 2, 3, 4])\n",
    "print(arr)\n",
    "\n",
    "# Creating arrays using built-in functions\n",
    "zeros_arr = np.zeros((2, 3))  # 2x3 array of zeros\n",
    "ones_arr = np.ones((3, 3))    # 3x3 array of ones\n",
    "range_arr = np.arange(0, 10, 2)  # Array of values from 0 to 10 with a step of 2\n",
    "\n",
    "print(zeros_arr)\n",
    "print(ones_arr)\n",
    "print(range_arr)\n"
   ]
  },
  {
   "cell_type": "markdown",
   "id": "2b0a14e5",
   "metadata": {},
   "source": [
    "\n",
    "## Array Indexing and Slicing\n",
    "\n",
    "You can access and modify elements in a NumPy array using indexing and slicing, similar to Python lists.\n"
   ]
  },
  {
   "cell_type": "code",
   "execution_count": null,
   "id": "f52efdfc",
   "metadata": {},
   "outputs": [],
   "source": [
    "\n",
    "# Creating a 1D array\n",
    "arr = np.array([10, 20, 30, 40, 50])\n",
    "\n",
    "# Accessing elements\n",
    "print(arr[0])   # First element\n",
    "print(arr[-1])  # Last element\n",
    "\n",
    "# Slicing an array\n",
    "print(arr[1:4])  # Elements from index 1 to 3\n",
    "\n",
    "# Modifying elements\n",
    "arr[2] = 100\n",
    "print(arr)\n"
   ]
  },
  {
   "cell_type": "markdown",
   "id": "49dbaad5",
   "metadata": {},
   "source": [
    "\n",
    "## Array Operations\n",
    "\n",
    "You can perform element-wise operations on NumPy arrays, which is very efficient for numerical computations.\n"
   ]
  },
  {
   "cell_type": "code",
   "execution_count": null,
   "id": "7fd65958",
   "metadata": {},
   "outputs": [],
   "source": [
    "\n",
    "# Creating two arrays\n",
    "arr1 = np.array([1, 2, 3])\n",
    "arr2 = np.array([4, 5, 6])\n",
    "\n",
    "# Element-wise operations\n",
    "print(arr1 + arr2)  # Addition\n",
    "print(arr1 * arr2)  # Multiplication\n",
    "print(arr1 ** 2)    # Squaring each element\n"
   ]
  },
  {
   "cell_type": "markdown",
   "id": "dae79e40",
   "metadata": {},
   "source": [
    "\n",
    "## Reshaping and Resizing Arrays\n",
    "\n",
    "You can change the shape of an array without changing its data using `reshape` and `resize`.\n"
   ]
  },
  {
   "cell_type": "code",
   "execution_count": null,
   "id": "5beb514c",
   "metadata": {},
   "outputs": [],
   "source": [
    "\n",
    "# Creating an array\n",
    "arr = np.arange(12)\n",
    "\n",
    "# Reshaping the array into a 3x4 matrix\n",
    "reshaped_arr = arr.reshape((3, 4))\n",
    "print(reshaped_arr)\n",
    "\n",
    "# Resizing an array\n",
    "resized_arr = np.resize(arr, (2, 6))\n",
    "print(resized_arr)\n"
   ]
  },
  {
   "cell_type": "markdown",
   "id": "2d2ffb07",
   "metadata": {},
   "source": [
    "\n",
    "## Statistical Operations\n",
    "\n",
    "NumPy provides various statistical functions such as mean, median, standard deviation, and sum.\n"
   ]
  },
  {
   "cell_type": "code",
   "execution_count": null,
   "id": "9c467e09",
   "metadata": {},
   "outputs": [],
   "source": [
    "\n",
    "arr = np.array([1, 2, 3, 4, 5])\n",
    "\n",
    "# Calculating statistics\n",
    "print(\"Mean:\", np.mean(arr))\n",
    "print(\"Median:\", np.median(arr))\n",
    "print(\"Standard Deviation:\", np.std(arr))\n",
    "print(\"Sum:\", np.sum(arr))\n"
   ]
  },
  {
   "cell_type": "markdown",
   "id": "c4b6097c",
   "metadata": {},
   "source": [
    "\n",
    "## Broadcasting\n",
    "\n",
    "Broadcasting allows NumPy to perform operations on arrays of different shapes in an efficient way.\n"
   ]
  },
  {
   "cell_type": "code",
   "execution_count": null,
   "id": "bec2948c",
   "metadata": {},
   "outputs": [],
   "source": [
    "\n",
    "arr = np.array([1, 2, 3])\n",
    "scalar = 5\n",
    "\n",
    "# Broadcasting allows you to add a scalar to an array\n",
    "result = arr + scalar\n",
    "print(result)\n"
   ]
  },
  {
   "cell_type": "markdown",
   "id": "ff43a33c",
   "metadata": {},
   "source": [
    "\n",
    "## Random Numbers\n",
    "\n",
    "NumPy provides functionality to generate random numbers, which is useful for simulations and initializing arrays.\n"
   ]
  },
  {
   "cell_type": "code",
   "execution_count": null,
   "id": "fd1a3095",
   "metadata": {},
   "outputs": [],
   "source": [
    "\n",
    "# Generating random numbers\n",
    "random_arr = np.random.random((2, 3))  # 2x3 array of random numbers between 0 and 1\n",
    "print(random_arr)\n",
    "\n",
    "# Random integers\n",
    "random_ints = np.random.randint(1, 100, (3, 3))  # 3x3 array of random integers between 1 and 100\n",
    "print(random_ints)\n"
   ]
  },
  {
   "cell_type": "markdown",
   "id": "57280ecb",
   "metadata": {},
   "source": [
    "\n",
    "## Linear Algebra\n",
    "\n",
    "NumPy has a wide range of linear algebra functions, including matrix multiplication and solving systems of equations.\n"
   ]
  },
  {
   "cell_type": "code",
   "execution_count": null,
   "id": "47e68ff7",
   "metadata": {},
   "outputs": [],
   "source": [
    "\n",
    "# Creating two matrices\n",
    "A = np.array([[1, 2], [3, 4]])\n",
    "B = np.array([[5, 6], [7, 8]])\n",
    "\n",
    "# Matrix multiplication\n",
    "C = np.dot(A, B)\n",
    "print(C)\n",
    "\n",
    "# Solving a system of linear equations (Ax = b)\n",
    "b = np.array([1, 2])\n",
    "x = np.linalg.solve(A, b)\n",
    "print(x)\n"
   ]
  }
 ],
 "metadata": {},
 "nbformat": 4,
 "nbformat_minor": 5
}
