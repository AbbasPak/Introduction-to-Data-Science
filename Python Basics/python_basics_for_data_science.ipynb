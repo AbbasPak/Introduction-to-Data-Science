{
 "cells": [
  {
   "cell_type": "markdown",
   "id": "8b3b236c",
   "metadata": {},
   "source": [
    "\n",
    "# Python Basics for Data Science\n",
    "\n",
    "Welcome to the \"Python Basics for Data Science\"! This notebook will introduce you to the fundamental concepts of Python that are essential for data science. Each section is interactive, so feel free to run the code cells, edit, and experiment as you learn.\n",
    "\n",
    "## Table of Contents\n",
    "1. [Introduction to Python](#introduction-to-python)\n",
    "2. [Basic Syntax](#basic-syntax)\n",
    "3. [Variables and Data Types](#variables-and-data-types)\n",
    "4. [Operators](#operators)\n",
    "5. [Control Flow (if-else, loops)](#control-flow-if-else-loops)\n",
    "6. [Functions](#functions)\n",
    "7. [Data Structures](#data-structures)\n",
    "8. [File Handling](#file-handling)\n",
    "9. [Exception Handling](#exception-handling)\n",
    "10. [Basic Libraries for Data Science](#basic-libraries-for-data-science)\n",
    "\n",
    "---\n"
   ]
  },
  {
   "cell_type": "markdown",
   "id": "56dc0bb0",
   "metadata": {},
   "source": [
    "\n",
    "## Basic Syntax\n",
    "\n",
    "Python has a simple syntax that is easy to read and write. Here are some basic syntax examples:\n"
   ]
  },
  {
   "cell_type": "code",
   "execution_count": 2,
   "id": "d84d74a3",
   "metadata": {},
   "outputs": [
    {
     "name": "stdout",
     "output_type": "stream",
     "text": [
      "Hello, World!\n",
      "Five is greater than two!\n"
     ]
    }
   ],
   "source": [
    "\n",
    "# Printing to the console\n",
    "print(\"Hello, World!\")\n",
    "\n",
    "# Comments\n",
    "# This is a single-line comment\n",
    "'''\n",
    "This is a multi-line comment.\n",
    "'''\n",
    "\n",
    "# Indentation\n",
    "if 5 > 2:\n",
    "    print(\"Five is greater than two!\")\n"
   ]
  },
  {
   "cell_type": "markdown",
   "id": "48f7ee95",
   "metadata": {},
   "source": [
    "\n",
    "## Variables and Data Types\n",
    "\n",
    "Python is dynamically typed, meaning you don't need to declare the type of a variable. Let's see some examples:\n"
   ]
  },
  {
   "cell_type": "code",
   "execution_count": 1,
   "id": "12f93c02",
   "metadata": {},
   "outputs": [
    {
     "name": "stdout",
     "output_type": "stream",
     "text": [
      "<class 'int'>\n",
      "<class 'str'>\n",
      "<class 'float'>\n"
     ]
    }
   ],
   "source": [
    "\n",
    "# Assigning values to variables\n",
    "x = 5\n",
    "y = \"Hello\"\n",
    "z = 3.14\n",
    "\n",
    "# Display the types\n",
    "print(type(x))  # int\n",
    "print(type(y))  # str\n",
    "print(type(z))  # float\n"
   ]
  },
  {
   "cell_type": "markdown",
   "id": "b878de81",
   "metadata": {},
   "source": [
    "\n",
    "## Operators\n",
    "\n",
    "Python supports various operators for arithmetic, comparison, logical, and more.\n"
   ]
  },
  {
   "cell_type": "code",
   "execution_count": null,
   "id": "980876ca",
   "metadata": {},
   "outputs": [],
   "source": [
    "\n",
    "# Arithmetic operators\n",
    "a = 10\n",
    "b = 3\n",
    "print(a + b, a - b, a * b, a / b, a % b)\n",
    "\n",
    "# Comparison operators\n",
    "print(a > b, a == b, a != b)\n",
    "\n",
    "# Logical operators\n",
    "print(a > 5 and b < 5)\n",
    "\n",
    "# Assignment operators\n",
    "a += 5\n",
    "print(a)\n"
   ]
  },
  {
   "cell_type": "markdown",
   "id": "6ce94bb1",
   "metadata": {},
   "source": [
    "\n",
    "## Control Flow\n",
    "\n",
    "Control flow refers to the order in which individual statements, instructions, or function calls are executed or evaluated.\n",
    "\n",
    "### if-else Statements\n"
   ]
  },
  {
   "cell_type": "code",
   "execution_count": null,
   "id": "81bdd923",
   "metadata": {},
   "outputs": [],
   "source": [
    "\n",
    "x = 10\n",
    "if x > 5:\n",
    "    print(\"x is greater than 5\")\n",
    "elif x == 5:\n",
    "    print(\"x is 5\")\n",
    "else:\n",
    "    print(\"x is less than 5\")\n"
   ]
  },
  {
   "cell_type": "markdown",
   "id": "6945eb88",
   "metadata": {},
   "source": [
    "\n",
    "### Loops\n",
    "\n",
    "#### For Loop\n"
   ]
  },
  {
   "cell_type": "code",
   "execution_count": null,
   "id": "fcce425f",
   "metadata": {},
   "outputs": [],
   "source": [
    "\n",
    "for i in range(5):\n",
    "    print(i)\n"
   ]
  },
  {
   "cell_type": "markdown",
   "id": "d650d39a",
   "metadata": {},
   "source": [
    "\n",
    "#### While Loop\n"
   ]
  },
  {
   "cell_type": "code",
   "execution_count": null,
   "id": "e8d6815c",
   "metadata": {},
   "outputs": [],
   "source": [
    "\n",
    "count = 0\n",
    "while count < 5:\n",
    "    print(count)\n",
    "    count += 1\n"
   ]
  },
  {
   "cell_type": "markdown",
   "id": "38a9319a",
   "metadata": {},
   "source": [
    "\n",
    "## Functions\n",
    "\n",
    "Functions are reusable blocks of code. Here's how you define and use functions in Python:\n"
   ]
  },
  {
   "cell_type": "code",
   "execution_count": null,
   "id": "ed13c35f",
   "metadata": {},
   "outputs": [],
   "source": [
    "\n",
    "# Defining a function\n",
    "def greet(name):\n",
    "    return f\"Hello, {name}!\"\n",
    "\n",
    "print(greet(\"Alice\"))\n",
    "\n",
    "# Lambda functions (anonymous functions)\n",
    "add = lambda x, y: x + y\n",
    "print(add(3, 5))\n"
   ]
  },
  {
   "cell_type": "markdown",
   "id": "12c1f6f7",
   "metadata": {},
   "source": [
    "\n",
    "## Data Structures\n",
    "\n",
    "Python provides several built-in data structures that are essential for organizing and storing data.\n"
   ]
  },
  {
   "cell_type": "code",
   "execution_count": null,
   "id": "88464e0d",
   "metadata": {},
   "outputs": [],
   "source": [
    "\n",
    "# Lists\n",
    "fruits = [\"apple\", \"banana\", \"cherry\"]\n",
    "fruits.append(\"orange\")\n",
    "print(fruits)\n",
    "\n",
    "# Tuples\n",
    "coordinates = (10, 20)\n",
    "print(coordinates)\n",
    "\n",
    "# Dictionaries\n",
    "student = {\"name\": \"John\", \"age\": 20}\n",
    "print(student[\"name\"])\n",
    "\n",
    "# Sets\n",
    "unique_numbers = {1, 2, 3, 4, 5}\n",
    "print(unique_numbers)\n"
   ]
  },
  {
   "cell_type": "markdown",
   "id": "f30e2aac",
   "metadata": {},
   "source": [
    "\n",
    "## File Handling\n",
    "\n",
    "You can use Python to read and write files. Here's a simple example:\n"
   ]
  },
  {
   "cell_type": "code",
   "execution_count": null,
   "id": "79e586fb",
   "metadata": {},
   "outputs": [],
   "source": [
    "\n",
    "# Writing to a file\n",
    "with open(\"file.txt\", \"w\") as file:\n",
    "    file.write(\"Hello, World!\")\n",
    "\n",
    "# Reading from a file\n",
    "with open(\"file.txt\", \"r\") as file:\n",
    "    content = file.read()\n",
    "    print(content)\n"
   ]
  },
  {
   "cell_type": "markdown",
   "id": "d7486dc8",
   "metadata": {},
   "source": [
    "\n",
    "## Exception Handling\n",
    "\n",
    "You can handle errors in Python using try-except blocks:\n"
   ]
  },
  {
   "cell_type": "code",
   "execution_count": null,
   "id": "472baaa0",
   "metadata": {},
   "outputs": [],
   "source": [
    "\n",
    "try:\n",
    "    x = 1 / 0\n",
    "except ZeroDivisionError:\n",
    "    print(\"Cannot divide by zero!\")\n",
    "finally:\n",
    "    print(\"This will always execute.\")\n"
   ]
  },
  {
   "cell_type": "markdown",
   "id": "92a2156c",
   "metadata": {},
   "source": [
    "\n",
    "## Basic Libraries for Data Science\n",
    "\n",
    "Python has powerful libraries for data science, such as NumPy and Pandas.\n",
    "\n",
    "### NumPy\n"
   ]
  },
  {
   "cell_type": "code",
   "execution_count": null,
   "id": "4d6a1f41",
   "metadata": {},
   "outputs": [],
   "source": [
    "\n",
    "import numpy as np\n",
    "\n",
    "# Create a NumPy array\n",
    "array = np.array([1, 2, 3, 4])\n",
    "print(array)\n"
   ]
  },
  {
   "cell_type": "markdown",
   "id": "1664e3c4",
   "metadata": {},
   "source": [
    "\n",
    "### Pandas\n"
   ]
  },
  {
   "cell_type": "code",
   "execution_count": null,
   "id": "8a2c1872",
   "metadata": {},
   "outputs": [],
   "source": [
    "\n",
    "import pandas as pd\n",
    "\n",
    "# Create a Pandas DataFrame\n",
    "data = pd.DataFrame({\n",
    "    \"Name\": [\"Alice\", \"Bob\", \"Charlie\"],\n",
    "    \"Age\": [24, 27, 22]\n",
    "})\n",
    "print(data)\n"
   ]
  }
 ],
 "metadata": {
  "kernelspec": {
   "display_name": "Python 3 (ipykernel)",
   "language": "python",
   "name": "python3"
  },
  "language_info": {
   "codemirror_mode": {
    "name": "ipython",
    "version": 3
   },
   "file_extension": ".py",
   "mimetype": "text/x-python",
   "name": "python",
   "nbconvert_exporter": "python",
   "pygments_lexer": "ipython3",
   "version": "3.11.3"
  }
 },
 "nbformat": 4,
 "nbformat_minor": 5
}
