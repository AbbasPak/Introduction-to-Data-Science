{
 "cells": [
  {
   "cell_type": "markdown",
   "id": "012c4f77",
   "metadata": {},
   "source": [
    "\n",
    "# Pandas for Data Science\n",
    "\n",
    "Pandas is a powerful library for data manipulation and analysis. It is built on top of NumPy and provides data structures like Series and DataFrame to handle structured data efficiently.\n",
    "\n",
    "This notebook covers some of the most important Pandas functionalities that are essential for data science.\n",
    "\n",
    "## Table of Contents\n",
    "1. [Importing Pandas](#importing-pandas)\n",
    "2. [Series](#series)\n",
    "3. [DataFrame](#dataframe)\n",
    "4. [Reading Data](#reading-data)\n",
    "5. [Data Inspection](#data-inspection)\n",
    "6. [Data Selection and Filtering](#data-selection-and-filtering)\n",
    "7. [Data Cleaning](#data-cleaning)\n",
    "8. [Data Aggregation and Grouping](#data-aggregation-and-grouping)\n",
    "9. [Merging and Joining](#merging-and-joining)\n",
    "10. [Basic Statistics](#basic-statistics)\n",
    "\n",
    "---\n"
   ]
  },
  {
   "cell_type": "markdown",
   "id": "1ad71f49",
   "metadata": {},
   "source": [
    "\n",
    "## Importing Pandas\n",
    "\n",
    "Let's start by importing the pandas library.\n"
   ]
  },
  {
   "cell_type": "code",
   "execution_count": null,
   "id": "fc4c4048",
   "metadata": {},
   "outputs": [],
   "source": [
    "\n",
    "import pandas as pd\n"
   ]
  },
  {
   "cell_type": "markdown",
   "id": "8ee815e7",
   "metadata": {},
   "source": [
    "\n",
    "## Series\n",
    "\n",
    "A Pandas Series is a one-dimensional labeled array capable of holding any data type. Let's create a Series.\n"
   ]
  },
  {
   "cell_type": "code",
   "execution_count": null,
   "id": "ecde9f1b",
   "metadata": {},
   "outputs": [],
   "source": [
    "\n",
    "# Creating a Pandas Series\n",
    "data = [10, 20, 30, 40, 50]\n",
    "series = pd.Series(data, index=[\"a\", \"b\", \"c\", \"d\", \"e\"])\n",
    "print(series)\n"
   ]
  },
  {
   "cell_type": "markdown",
   "id": "e00ec234",
   "metadata": {},
   "source": [
    "\n",
    "## DataFrame\n",
    "\n",
    "A Pandas DataFrame is a two-dimensional labeled data structure with columns of potentially different data types. It's similar to a table in a database or an Excel spreadsheet.\n",
    "\n",
    "Let's create a DataFrame.\n"
   ]
  },
  {
   "cell_type": "code",
   "execution_count": null,
   "id": "372e138a",
   "metadata": {},
   "outputs": [],
   "source": [
    "\n",
    "# Creating a DataFrame\n",
    "data = {\n",
    "    \"Name\": [\"Alice\", \"Bob\", \"Charlie\"],\n",
    "    \"Age\": [24, 27, 22],\n",
    "    \"City\": [\"New York\", \"Paris\", \"London\"]\n",
    "}\n",
    "df = pd.DataFrame(data)\n",
    "print(df)\n"
   ]
  },
  {
   "cell_type": "markdown",
   "id": "95ffe16b",
   "metadata": {},
   "source": [
    "\n",
    "## Reading Data\n",
    "\n",
    "Pandas can read data from various file formats such as CSV, Excel, and more. Here's how to read data from a CSV file.\n"
   ]
  },
  {
   "cell_type": "code",
   "execution_count": null,
   "id": "9d28fd29",
   "metadata": {},
   "outputs": [],
   "source": [
    "\n",
    "# Reading data from a CSV file (assuming a CSV file is available)\n",
    "# df = pd.read_csv('data.csv')  # Uncomment and replace with an actual file path\n",
    "# print(df.head())\n"
   ]
  },
  {
   "cell_type": "markdown",
   "id": "953494a0",
   "metadata": {},
   "source": [
    "\n",
    "## Data Inspection\n",
    "\n",
    "You can inspect your DataFrame using various methods. Here are some of the most commonly used ones:\n"
   ]
  },
  {
   "cell_type": "code",
   "execution_count": null,
   "id": "1d8dfb88",
   "metadata": {},
   "outputs": [],
   "source": [
    "\n",
    "# Inspecting the data\n",
    "print(df.head())   # First 5 rows\n",
    "print(df.info())   # Summary of the DataFrame\n",
    "print(df.describe())  # Descriptive statistics for numeric columns\n"
   ]
  },
  {
   "cell_type": "markdown",
   "id": "37fd11bf",
   "metadata": {},
   "source": [
    "\n",
    "## Data Selection and Filtering\n",
    "\n",
    "You can select and filter specific rows and columns from your DataFrame.\n"
   ]
  },
  {
   "cell_type": "code",
   "execution_count": null,
   "id": "a9aaecd5",
   "metadata": {},
   "outputs": [],
   "source": [
    "\n",
    "# Selecting a column\n",
    "print(df[\"Name\"])\n",
    "\n",
    "# Selecting multiple columns\n",
    "print(df[[\"Name\", \"Age\"]])\n",
    "\n",
    "# Filtering rows based on a condition\n",
    "filtered_df = df[df[\"Age\"] > 23]\n",
    "print(filtered_df)\n"
   ]
  },
  {
   "cell_type": "markdown",
   "id": "747c54bc",
   "metadata": {},
   "source": [
    "\n",
    "## Data Cleaning\n",
    "\n",
    "Handling missing or incorrect data is crucial in data science. Pandas provides functions for handling missing values.\n"
   ]
  },
  {
   "cell_type": "code",
   "execution_count": null,
   "id": "42f270f7",
   "metadata": {},
   "outputs": [],
   "source": [
    "\n",
    "# Checking for missing values\n",
    "print(df.isnull().sum())\n",
    "\n",
    "# Filling missing values\n",
    "df_filled = df.fillna(0)\n",
    "\n",
    "# Dropping rows with missing values\n",
    "df_dropped = df.dropna()\n"
   ]
  },
  {
   "cell_type": "markdown",
   "id": "42e6af23",
   "metadata": {},
   "source": [
    "\n",
    "## Data Aggregation and Grouping\n",
    "\n",
    "You can aggregate data and perform group-based operations in Pandas.\n"
   ]
  },
  {
   "cell_type": "code",
   "execution_count": null,
   "id": "8e3de90d",
   "metadata": {},
   "outputs": [],
   "source": [
    "\n",
    "# Grouping data by a column and calculating the mean\n",
    "grouped_df = df.groupby(\"City\")[\"Age\"].mean()\n",
    "print(grouped_df)\n"
   ]
  },
  {
   "cell_type": "markdown",
   "id": "88df796c",
   "metadata": {},
   "source": [
    "\n",
    "## Merging and Joining\n",
    "\n",
    "Pandas allows you to merge and join DataFrames, similar to SQL joins.\n"
   ]
  },
  {
   "cell_type": "code",
   "execution_count": null,
   "id": "76f7f554",
   "metadata": {},
   "outputs": [],
   "source": [
    "\n",
    "# Creating another DataFrame\n",
    "data2 = {\n",
    "    \"Name\": [\"Alice\", \"Bob\", \"David\"],\n",
    "    \"Salary\": [70000, 80000, 60000]\n",
    "}\n",
    "df2 = pd.DataFrame(data2)\n",
    "\n",
    "# Merging DataFrames\n",
    "merged_df = pd.merge(df, df2, on=\"Name\", how=\"inner\")\n",
    "print(merged_df)\n"
   ]
  },
  {
   "cell_type": "markdown",
   "id": "fcf68d12",
   "metadata": {},
   "source": [
    "\n",
    "## Basic Statistics\n",
    "\n",
    "Pandas makes it easy to calculate statistics like mean, median, standard deviation, and more.\n"
   ]
  },
  {
   "cell_type": "code",
   "execution_count": null,
   "id": "618a84fb",
   "metadata": {},
   "outputs": [],
   "source": [
    "\n",
    "# Basic statistics\n",
    "print(df[\"Age\"].mean())   # Mean of the Age column\n",
    "print(df[\"Age\"].median())  # Median\n",
    "print(df[\"Age\"].std())     # Standard deviation\n"
   ]
  }
 ],
 "metadata": {},
 "nbformat": 4,
 "nbformat_minor": 5
}
