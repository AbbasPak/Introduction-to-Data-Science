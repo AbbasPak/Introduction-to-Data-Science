{
 "cells": [
  {
   "cell_type": "markdown",
   "id": "3b519cc8",
   "metadata": {},
   "source": [
    "## Import the required libraries"
   ]
  },
  {
   "cell_type": "code",
   "execution_count": null,
   "id": "e8691b66",
   "metadata": {},
   "outputs": [],
   "source": []
  },
  {
   "cell_type": "code",
   "execution_count": null,
   "id": "21c38188",
   "metadata": {},
   "outputs": [],
   "source": []
  },
  {
   "cell_type": "markdown",
   "id": "faf32bf5",
   "metadata": {},
   "source": [
    "## Read the data as dataframe Project1_Data"
   ]
  },
  {
   "cell_type": "code",
   "execution_count": null,
   "id": "9ef7adf8",
   "metadata": {},
   "outputs": [],
   "source": []
  },
  {
   "cell_type": "markdown",
   "id": "f0e40317",
   "metadata": {},
   "source": [
    "#### For more detail about dataframe and its variables refer to: \n",
    "https://github.com/AbbasPak/K-Means-Clustering-in-psychology-Case-study/blob/main/cope.rst"
   ]
  },
  {
   "cell_type": "markdown",
   "id": "1de806b3",
   "metadata": {},
   "source": []
  },
  {
   "cell_type": "code",
   "execution_count": null,
   "id": "5dcfe33b",
   "metadata": {},
   "outputs": [],
   "source": []
  },
  {
   "cell_type": "markdown",
   "id": "0ddb72f9",
   "metadata": {},
   "source": [
    "## Run the commands: head, info, shape, describe, columns"
   ]
  },
  {
   "cell_type": "code",
   "execution_count": null,
   "id": "7d9d77c5",
   "metadata": {},
   "outputs": [],
   "source": []
  },
  {
   "cell_type": "code",
   "execution_count": null,
   "id": "5439d8fb",
   "metadata": {},
   "outputs": [],
   "source": []
  },
  {
   "cell_type": "markdown",
   "id": "bb34d659",
   "metadata": {},
   "source": [
    "## remove columns UIS, venting, planning, humor, religion, denial"
   ]
  },
  {
   "cell_type": "code",
   "execution_count": null,
   "id": "16817af9",
   "metadata": {},
   "outputs": [],
   "source": []
  },
  {
   "cell_type": "code",
   "execution_count": null,
   "id": "a251c429",
   "metadata": {},
   "outputs": [],
   "source": []
  },
  {
   "cell_type": "code",
   "execution_count": null,
   "id": "ec63e4f7",
   "metadata": {},
   "outputs": [],
   "source": []
  },
  {
   "cell_type": "markdown",
   "id": "f2092204",
   "metadata": {},
   "source": [
    "## Handle missing data"
   ]
  },
  {
   "cell_type": "code",
   "execution_count": null,
   "id": "f31beeaf",
   "metadata": {},
   "outputs": [],
   "source": []
  },
  {
   "cell_type": "code",
   "execution_count": null,
   "id": "e8028e43",
   "metadata": {},
   "outputs": [],
   "source": []
  },
  {
   "cell_type": "code",
   "execution_count": null,
   "id": "9b1bfbe6",
   "metadata": {},
   "outputs": [],
   "source": []
  },
  {
   "cell_type": "code",
   "execution_count": null,
   "id": "48e43321",
   "metadata": {},
   "outputs": [],
   "source": []
  },
  {
   "cell_type": "markdown",
   "id": "4a30734b",
   "metadata": {},
   "source": [
    "## Handle outliers for Active_coping, Self_blame"
   ]
  },
  {
   "cell_type": "code",
   "execution_count": null,
   "id": "12c52dda",
   "metadata": {},
   "outputs": [],
   "source": []
  },
  {
   "cell_type": "code",
   "execution_count": null,
   "id": "36a28728",
   "metadata": {},
   "outputs": [],
   "source": []
  },
  {
   "cell_type": "code",
   "execution_count": null,
   "id": "cb131c02",
   "metadata": {},
   "outputs": [],
   "source": []
  },
  {
   "cell_type": "code",
   "execution_count": null,
   "id": "01e3fd85",
   "metadata": {},
   "outputs": [],
   "source": []
  },
  {
   "cell_type": "markdown",
   "id": "f62d6dfd",
   "metadata": {},
   "source": [
    "#### Create a new variable in the data frame named well by adding wb1 to wb14."
   ]
  },
  {
   "cell_type": "code",
   "execution_count": null,
   "id": "c124a829",
   "metadata": {},
   "outputs": [],
   "source": []
  },
  {
   "cell_type": "code",
   "execution_count": null,
   "id": "458dacb4",
   "metadata": {},
   "outputs": [],
   "source": []
  },
  {
   "cell_type": "markdown",
   "id": "af2417c4",
   "metadata": {},
   "source": [
    "#### Create a new variable in the data frame named res by adding rs1 to rs14."
   ]
  },
  {
   "cell_type": "code",
   "execution_count": null,
   "id": "251bab88",
   "metadata": {},
   "outputs": [],
   "source": []
  },
  {
   "cell_type": "code",
   "execution_count": null,
   "id": "9eeb2f6b",
   "metadata": {},
   "outputs": [],
   "source": []
  },
  {
   "cell_type": "markdown",
   "id": "b392a756",
   "metadata": {},
   "source": [
    "#### Plot the Histogram of res and well"
   ]
  },
  {
   "cell_type": "code",
   "execution_count": null,
   "id": "33fc390d",
   "metadata": {},
   "outputs": [],
   "source": []
  },
  {
   "cell_type": "code",
   "execution_count": null,
   "id": "59838234",
   "metadata": {},
   "outputs": [],
   "source": []
  },
  {
   "cell_type": "code",
   "execution_count": null,
   "id": "6b0430e4",
   "metadata": {},
   "outputs": [],
   "source": []
  },
  {
   "cell_type": "markdown",
   "id": "546df087",
   "metadata": {},
   "source": [
    "#### Plot the Histogram of res and well based on sex"
   ]
  },
  {
   "cell_type": "code",
   "execution_count": null,
   "id": "f7ecc59b",
   "metadata": {},
   "outputs": [],
   "source": []
  },
  {
   "cell_type": "code",
   "execution_count": null,
   "id": "dee8f97e",
   "metadata": {},
   "outputs": [],
   "source": []
  },
  {
   "cell_type": "code",
   "execution_count": null,
   "id": "0a0b00f9",
   "metadata": {},
   "outputs": [],
   "source": []
  },
  {
   "cell_type": "code",
   "execution_count": null,
   "id": "29ca8396",
   "metadata": {},
   "outputs": [],
   "source": []
  },
  {
   "cell_type": "markdown",
   "id": "3c32a808",
   "metadata": {},
   "source": [
    "#### plot scatter plot of res and well"
   ]
  },
  {
   "cell_type": "code",
   "execution_count": null,
   "id": "500f1d8b",
   "metadata": {},
   "outputs": [],
   "source": []
  },
  {
   "cell_type": "code",
   "execution_count": null,
   "id": "f56a5c99",
   "metadata": {},
   "outputs": [],
   "source": []
  },
  {
   "cell_type": "code",
   "execution_count": null,
   "id": "95a5177d",
   "metadata": {},
   "outputs": [],
   "source": []
  },
  {
   "cell_type": "code",
   "execution_count": null,
   "id": "bc60daec",
   "metadata": {},
   "outputs": [],
   "source": []
  },
  {
   "cell_type": "markdown",
   "id": "2b116910",
   "metadata": {},
   "source": [
    "##### For men and women who have self-blame less than 4 and active- coping more than 3, calculate the average of res and well and show their means using a bar chart."
   ]
  },
  {
   "cell_type": "code",
   "execution_count": null,
   "id": "a4dca9bd",
   "metadata": {},
   "outputs": [],
   "source": []
  },
  {
   "cell_type": "code",
   "execution_count": null,
   "id": "e06c216c",
   "metadata": {},
   "outputs": [],
   "source": []
  },
  {
   "cell_type": "code",
   "execution_count": null,
   "id": "94ce4eda",
   "metadata": {},
   "outputs": [],
   "source": []
  },
  {
   "cell_type": "markdown",
   "id": "b1ce5705",
   "metadata": {},
   "source": [
    "## Ask and answer other questions based on your creativity!!!"
   ]
  },
  {
   "cell_type": "code",
   "execution_count": null,
   "id": "c2a44408",
   "metadata": {},
   "outputs": [],
   "source": []
  },
  {
   "cell_type": "code",
   "execution_count": null,
   "id": "8d61953b",
   "metadata": {},
   "outputs": [],
   "source": []
  },
  {
   "cell_type": "code",
   "execution_count": null,
   "id": "ab417328",
   "metadata": {},
   "outputs": [],
   "source": []
  }
 ],
 "metadata": {
  "kernelspec": {
   "display_name": "Python 3 (ipykernel)",
   "language": "python",
   "name": "python3"
  },
  "language_info": {
   "codemirror_mode": {
    "name": "ipython",
    "version": 3
   },
   "file_extension": ".py",
   "mimetype": "text/x-python",
   "name": "python",
   "nbconvert_exporter": "python",
   "pygments_lexer": "ipython3",
   "version": "3.11.3"
  }
 },
 "nbformat": 4,
 "nbformat_minor": 5
}
