{
 "cells": [
  {
   "cell_type": "markdown",
   "metadata": {},
   "source": [
    "# Handling Different Types of Missing Data in Python"
   ]
  },
  {
   "cell_type": "markdown",
   "metadata": {},
   "source": [
    "This notebook demonstrates various techniques for handling missing data using Python's `pandas` library."
   ]
  },
  {
   "cell_type": "code",
   "execution_count": null,
   "metadata": {},
   "outputs": [],
   "source": [
    "# Import necessary libraries\n",
    "import pandas as pd\n",
    "import numpy as np"
   ]
  },
  {
   "cell_type": "markdown",
   "metadata": {},
   "source": [
    "## Sample DataFrame with Missing Values"
   ]
  },
  {
   "cell_type": "code",
   "execution_count": null,
   "metadata": {},
   "outputs": [],
   "source": [
    "# Create a sample DataFrame with NaN values\n",
    "data = {\n",
    "    'name': ['Alice', 'Bob', 'Charlie', 'David', 'Eve', 'Frank', 'Grace', 'Henry', 'Ivy', 'Jack'],\n",
    "    'age': [25, 30, np.nan, 40, 35, np.nan, 45, 50, np.nan, 55],\n",
    "    'gender': ['F', 'M', np.nan, 'M', 'F', 'M', 'F', np.nan, 'F', 'M']\n",
    "}\n",
    "df = pd.DataFrame(data)\n",
    "df"
   ]
  },
  {
   "cell_type": "markdown",
   "metadata": {},
   "source": [
    "## 1. Identifying Missing Values"
   ]
  },
  {
   "cell_type": "code",
   "execution_count": null,
   "metadata": {},
   "outputs": [],
   "source": [
    "# Check for missing values\n",
    "df.isnull()"
   ]
  },
  {
   "cell_type": "markdown",
   "metadata": {},
   "source": [
    "## 2. Counting Missing Values in Each Column"
   ]
  },
  {
   "cell_type": "code",
   "execution_count": null,
   "metadata": {},
   "outputs": [],
   "source": [
    "# Count missing values in each column\n",
    "df.isnull().sum()"
   ]
  },
  {
   "cell_type": "markdown",
   "metadata": {},
   "source": [
    "## 3. Dropping Missing Values"
   ]
  },
  {
   "cell_type": "code",
   "execution_count": null,
   "metadata": {},
   "outputs": [],
   "source": [
    "# Drop rows with any missing values\n",
    "df_drop_any = df.dropna()\n",
    "df_drop_any"
   ]
  },
  {
   "cell_type": "code",
   "execution_count": null,
   "metadata": {},
   "outputs": [],
   "source": [
    "# Drop rows only if all values are missing\n",
    "df_drop_all = df.dropna(how='all')\n",
    "df_drop_all"
   ]
  },
  {
   "cell_type": "markdown",
   "metadata": {},
   "source": [
    "## 4. Filling Missing Values"
   ]
  },
  {
   "cell_type": "code",
   "execution_count": null,
   "metadata": {},
   "outputs": [],
   "source": [
    "# Fill missing values in 'age' with the mean\n",
    "age_mean = df['age'].mean()\n",
    "df_filled_mean = df['age'].fillna(age_mean)\n",
    "df_filled_mean"
   ]
  },
  {
   "cell_type": "code",
   "execution_count": null,
   "metadata": {},
   "outputs": [],
   "source": [
    "# Fill missing values in 'age' with the median\n",
    "age_median = df['age'].median()\n",
    "df['age'] = df['age'].fillna(age_median)\n",
    "df"
   ]
  },
  {
   "cell_type": "code",
   "execution_count": null,
   "metadata": {},
   "outputs": [],
   "source": [
    "# Fill missing values in 'gender' with the mode\n",
    "gender_mode = df['gender'].mode()[0]\n",
    "df['gender'] = df['gender'].fillna(gender_mode)\n",
    "df"
   ]
  },
  {
   "cell_type": "markdown",
   "metadata": {},
   "source": [
    "## 5. Filling Missing Values Using Forward Fill and Backward Fill"
   ]
  },
  {
   "cell_type": "code",
   "execution_count": null,
   "metadata": {},
   "outputs": [],
   "source": [
    "# Forward fill\n",
    "df_ffill = df.fillna(method='ffill')\n",
    "df_ffill"
   ]
  },
  {
   "cell_type": "code",
   "execution_count": null,
   "metadata": {},
   "outputs": [],
   "source": [
    "# Backward fill\n",
    "df_bfill = df.fillna(method='bfill')\n",
    "df_bfill"
   ]
  },
  {
   "cell_type": "markdown",
   "metadata": {},
   "source": [
    "## 6. Interpolating Missing Values"
   ]
  },
  {
   "cell_type": "code",
   "execution_count": null,
   "metadata": {},
   "outputs": [],
   "source": [
    "# Linear interpolation\n",
    "df_interpolated = df.interpolate(method='linear')\n",
    "df_interpolated"
   ]
  },
  {
   "cell_type": "markdown",
   "metadata": {},
   "source": [
    "## 7. Replacing NaN in 'age' with the Mean of 4 Previous and 4 Next Values"
   ]
  },
  {
   "cell_type": "code",
   "execution_count": null,
   "metadata": {},
   "outputs": [],
   "source": [
    "# Function to replace NaN with mean of 4 previous and 4 next values\n",
    "def replace_na_with_neighborhood_mean(column):\n",
    "    for i in range(len(column)):\n",
    "        if pd.isna(column[i]):  # Check if the current value is NaN\n",
    "            # Get the 4 previous and 4 next values\n",
    "            start = max(0, i - 4)\n",
    "            end = min(len(column), i + 5)\n",
    "            # Compute mean excluding NaN values\n",
    "            neighborhood_mean = column[start:end].mean()\n",
    "            # Replace NaN with the calculated neighborhood mean\n",
    "            column[i] = neighborhood_mean\n",
    "    return column\n",
    "\n",
    "# Apply the function to the 'age' column\n",
    "df['age'] = replace_na_with_neighborhood_mean(df['age'])\n",
    "df"
   ]
  },
  {
   "cell_type": "markdown",
   "metadata": {},
   "source": [
    "## 8. Using Scikit-Learn's `SimpleImputer` for Advanced Imputation"
   ]
  },
  {
   "cell_type": "code",
   "execution_count": null,
   "metadata": {},
   "outputs": [],
   "source": [
    "from sklearn.impute import SimpleImputer\n",
    "\n",
    "# Using SimpleImputer to fill NaN values with the median in 'age'\n",
    "imputer = SimpleImputer(strategy='median')\n",
    "df['age'] = imputer.fit_transform(df[['age']])\n",
    "df"
   ]
  },
  {
   "cell_type": "markdown",
   "metadata": {},
   "source": [
    "## Summary\n",
    "This notebook covered various methods to handle missing data, including:\n",
    "- Identifying and counting missing values\n",
    "- Dropping missing data\n",
    "- Filling with specific values (mean, median, mode)\n",
    "- Forward and backward filling\n",
    "- Interpolating missing values\n",
    "- Custom filling based on neighborhood values\n",
    "- Using Scikit-Learn's `SimpleImputer` for advanced imputation options\n",
    "\n",
    "Choose the method that best suits your dataset and analysis needs."
   ]
  }
 ],
 "metadata": {
  "kernelspec": {
   "display_name": "Python 3 (ipykernel)",
   "language": "python",
   "name": "python3"
  },
  "language_info": {
   "codemirror_mode": {
    "name": "ipython",
    "version": 3
   },
   "file_extension": ".py",
   "mimetype": "text/x-python",
   "name": "python",
   "nbconvert_exporter": "python",
   "pygments_lexer": "ipython3",
   "version": "3.11.3"
  }
 },
 "nbformat": 4,
 "nbformat_minor": 4
}
